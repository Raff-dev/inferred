{
 "cells": [
  {
   "cell_type": "code",
   "execution_count": null,
   "metadata": {},
   "outputs": [],
   "source": [
    "from diagrams import Diagram, Cluster, Edge\n",
    "from diagrams.generic.network import Switch\n",
    "from diagrams.generic.database import SQL\n",
    "from diagrams.generic.device import Mobile\n",
    "from diagrams.programming.framework import React\n",
    "from diagrams.onprem.compute import Server\n",
    "from diagrams.onprem.inmemory import Redis\n",
    "from diagrams.onprem.database import PostgreSQL\n",
    "from diagrams.onprem.queue import Celery\n",
    "from diagrams.programming.framework import Django\n",
    "from diagrams.programming.language import Python\n",
    "\n",
    "with Diagram(\"Inferred Component Diagram\", show=True, direction=\"LR\") as Diag:\n",
    "    with Cluster(\"Docker Compose\"):\n",
    "        with Cluster(\"Backend\"):\n",
    "            with Cluster(\"Task Worker\"):\n",
    "                worker = Celery(\"Celery Worker\")\n",
    "                django_worker = Django(\"Django\")\n",
    "\n",
    "            with Cluster(\"Web Interface\"):\n",
    "            django_web = Django(\"Django\")\n",
    "\n",
    "            postgres = PostgreSQL(\"PostgreSQL\")\n",
    "\n",
    "            with Cluster(\"Task Scheduler\"):\n",
    "                beat = Celery(\"Celery Beat\"),\n",
    "                django_beat = Django(\"Django\")\n",
    "\n",
    "            redis_queue = Redis(\"Redis Queue\")\n",
    "            redis_websocket = Redis(\"Redis Websocket\")\n",
    "\n",
    "        with Cluster(\"Data Generation\"):\n",
    "            mock = Python(\"Mock\")\n",
    "\n",
    "        with Cluster(\"Frontend\"):\n",
    "            frontend = React(\"Frontend\")\n",
    "\n",
    "    mock >> redis_queue\n",
    "    beat >> Edge() << redis_queue\n",
    "    redis_queue >> django_web\n",
    "\n",
    "    redis_queue >> worker\n",
    "    django_worker >> Edge(color=\"darkorange\") << postgres\n",
    "\n",
    "    postgres >> Edge(color=\"darkorange\") << django_web\n",
    "    django_web >> Edge() << redis_websocket >> Edge() << frontend\n",
    "\n",
    "Diag"
   ]
  }
 ],
 "metadata": {
  "language_info": {
   "name": "python"
  },
  "orig_nbformat": 4
 },
 "nbformat": 4,
 "nbformat_minor": 2
}
